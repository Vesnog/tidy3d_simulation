{
 "cells": [
  {
   "cell_type": "code",
   "execution_count": 12,
   "id": "10a316c5",
   "metadata": {},
   "outputs": [],
   "source": [
    "# standard python imports\n",
    "import numpy as np\n",
    "import matplotlib.pyplot as plt\n",
    "\n",
    "import tidy3d as td\n",
    "from tidy3d import web\n",
    "\n",
    "# fitter plugins\n",
    "from tidy3d.plugins.dispersion import StableDispersionFitter as Fitter, AdvancedFitterParam"
   ]
  },
  {
   "cell_type": "code",
   "execution_count": 14,
   "id": "c3c9dedd",
   "metadata": {},
   "outputs": [
    {
     "data": {
      "text/html": [
       "<pre style=\"white-space:pre;overflow-x:auto;line-height:normal;font-family:Menlo,'DejaVu Sans Mono',consolas,'Courier New',monospace\"><span style=\"color: #7fbfbf; text-decoration-color: #7fbfbf\">[12:11:03] </span><span style=\"color: #800000; text-decoration-color: #800000; font-weight: bold\">ERROR: Connection to the website failed. Please provide a valid URL.                         </span> <a href=\"file://C:\\Users\\oarisev\\AppData\\Local\\miniconda3\\envs\\tidy3d\\Lib\\site-packages\\tidy3d\\plugins\\dispersion\\fit.py\" target=\"_blank\"><span style=\"color: #7f7f7f; text-decoration-color: #7f7f7f\">fit.py</span></a><span style=\"color: #7f7f7f; text-decoration-color: #7f7f7f\">:</span><a href=\"file://C:\\Users\\oarisev\\AppData\\Local\\miniconda3\\envs\\tidy3d\\Lib\\site-packages\\tidy3d\\plugins\\dispersion\\fit.py#594\" target=\"_blank\"><span style=\"color: #7f7f7f; text-decoration-color: #7f7f7f\">594</span></a>\n",
       "</pre>\n"
      ],
      "text/plain": [
       "\u001b[2;36m[12:11:03]\u001b[0m\u001b[2;36m \u001b[0m\u001b[1;31mERROR: Connection to the website failed. Please provide a valid URL.                         \u001b[0m \u001b]8;id=533910;file://C:\\Users\\oarisev\\AppData\\Local\\miniconda3\\envs\\tidy3d\\Lib\\site-packages\\tidy3d\\plugins\\dispersion\\fit.py\u001b\\\u001b[2mfit.py\u001b[0m\u001b]8;;\u001b\\\u001b[2m:\u001b[0m\u001b]8;id=909588;file://C:\\Users\\oarisev\\AppData\\Local\\miniconda3\\envs\\tidy3d\\Lib\\site-packages\\tidy3d\\plugins\\dispersion\\fit.py#594\u001b\\\u001b[2m594\u001b[0m\u001b]8;;\u001b\\\n"
      ]
     },
     "metadata": {},
     "output_type": "display_data"
    },
    {
     "ename": "WebError",
     "evalue": "Connection to the website failed. Please provide a valid URL.",
     "output_type": "error",
     "traceback": [
      "\u001b[1;31m---------------------------------------------------------------------------\u001b[0m",
      "\u001b[1;31mHTTPError\u001b[0m                                 Traceback (most recent call last)",
      "File \u001b[1;32m~\\AppData\\Local\\miniconda3\\envs\\tidy3d\\Lib\\site-packages\\tidy3d\\plugins\\dispersion\\fit.py:592\u001b[0m, in \u001b[0;36mDispersionFitter.from_url\u001b[1;34m(cls, url_file, delimiter, ignore_k, **kwargs)\u001b[0m\n\u001b[0;32m    591\u001b[0m \u001b[38;5;28;01mtry\u001b[39;00m:\n\u001b[1;32m--> 592\u001b[0m     resp\u001b[38;5;241m.\u001b[39mraise_for_status()\n\u001b[0;32m    593\u001b[0m \u001b[38;5;28;01mexcept\u001b[39;00m \u001b[38;5;167;01mException\u001b[39;00m \u001b[38;5;28;01mas\u001b[39;00m e:  \u001b[38;5;66;03m# pylint:disable=broad-except\u001b[39;00m\n",
      "File \u001b[1;32m~\\AppData\\Local\\miniconda3\\envs\\tidy3d\\Lib\\site-packages\\requests\\models.py:1021\u001b[0m, in \u001b[0;36mResponse.raise_for_status\u001b[1;34m(self)\u001b[0m\n\u001b[0;32m   1020\u001b[0m \u001b[38;5;28;01mif\u001b[39;00m http_error_msg:\n\u001b[1;32m-> 1021\u001b[0m     \u001b[38;5;28;01mraise\u001b[39;00m HTTPError(http_error_msg, response\u001b[38;5;241m=\u001b[39m\u001b[38;5;28mself\u001b[39m)\n",
      "\u001b[1;31mHTTPError\u001b[0m: 410 Client Error: Gone for url: https://refractiveindex.info/data_csv.php?datafile=data/main/Si/Green-2008.yml",
      "\nThe above exception was the direct cause of the following exception:\n",
      "\u001b[1;31mWebError\u001b[0m                                  Traceback (most recent call last)",
      "Cell \u001b[1;32mIn[14], line 1\u001b[0m\n\u001b[1;32m----> 1\u001b[0m fitter \u001b[38;5;241m=\u001b[39m Fitter\u001b[38;5;241m.\u001b[39mfrom_url(\u001b[38;5;124m'\u001b[39m\u001b[38;5;124mhttps://refractiveindex.info/data_csv.php?datafile=data/main/Si/Green-2008.yml\u001b[39m\u001b[38;5;124m'\u001b[39m)\n\u001b[0;32m      2\u001b[0m fitter \u001b[38;5;241m=\u001b[39m fitter\u001b[38;5;241m.\u001b[39mcopy(update\u001b[38;5;241m=\u001b[39m{\u001b[38;5;124m'\u001b[39m\u001b[38;5;124mwvl_range\u001b[39m\u001b[38;5;124m'\u001b[39m : (\u001b[38;5;241m0.4\u001b[39m, \u001b[38;5;241m1.2\u001b[39m)})\n",
      "File \u001b[1;32m~\\AppData\\Local\\miniconda3\\envs\\tidy3d\\Lib\\site-packages\\tidy3d\\plugins\\dispersion\\fit.py:594\u001b[0m, in \u001b[0;36mDispersionFitter.from_url\u001b[1;34m(cls, url_file, delimiter, ignore_k, **kwargs)\u001b[0m\n\u001b[0;32m    592\u001b[0m     resp\u001b[38;5;241m.\u001b[39mraise_for_status()\n\u001b[0;32m    593\u001b[0m \u001b[38;5;28;01mexcept\u001b[39;00m \u001b[38;5;167;01mException\u001b[39;00m \u001b[38;5;28;01mas\u001b[39;00m e:  \u001b[38;5;66;03m# pylint:disable=broad-except\u001b[39;00m\n\u001b[1;32m--> 594\u001b[0m     \u001b[38;5;28;01mraise\u001b[39;00m WebError(\u001b[38;5;124m\"\u001b[39m\u001b[38;5;124mConnection to the website failed. Please provide a valid URL.\u001b[39m\u001b[38;5;124m\"\u001b[39m) \u001b[38;5;28;01mfrom\u001b[39;00m \u001b[38;5;21;01me\u001b[39;00m\n\u001b[0;32m    596\u001b[0m data_url \u001b[38;5;241m=\u001b[39m \u001b[38;5;28mlist\u001b[39m(\n\u001b[0;32m    597\u001b[0m     csv\u001b[38;5;241m.\u001b[39mreader(codecs\u001b[38;5;241m.\u001b[39miterdecode(resp\u001b[38;5;241m.\u001b[39miter_lines(), \u001b[38;5;124m\"\u001b[39m\u001b[38;5;124mutf-8\u001b[39m\u001b[38;5;124m\"\u001b[39m), delimiter\u001b[38;5;241m=\u001b[39mdelimiter)\n\u001b[0;32m    598\u001b[0m )\n\u001b[0;32m    599\u001b[0m data_url \u001b[38;5;241m=\u001b[39m \u001b[38;5;28mlist\u001b[39m(data_url)\n",
      "\u001b[1;31mWebError\u001b[0m: Connection to the website failed. Please provide a valid URL."
     ]
    }
   ],
   "source": [
    "fitter = Fitter.from_url('https://refractiveindex.info/data_csv.php?datafile=data/main/Si/Green-2008.yml')\n",
    "fitter = fitter.copy(update={'wvl_range' : (0.4, 1.2)}) #um\n"
   ]
  }
 ],
 "metadata": {
  "kernelspec": {
   "display_name": "Python 3 (ipykernel)",
   "language": "python",
   "name": "python3"
  },
  "language_info": {
   "codemirror_mode": {
    "name": "ipython",
    "version": 3
   },
   "file_extension": ".py",
   "mimetype": "text/x-python",
   "name": "python",
   "nbconvert_exporter": "python",
   "pygments_lexer": "ipython3",
   "version": "3.11.4"
  }
 },
 "nbformat": 4,
 "nbformat_minor": 5
}
